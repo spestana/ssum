{
 "cells": [
  {
   "cell_type": "code",
   "execution_count": null,
   "metadata": {},
   "outputs": [],
   "source": [
    "import xarray as xr\n",
    "import rioxarray\n",
    "\n",
    "import pandas as pd\n",
    "import numpy as np\n",
    "import matplotlib.pyplot as plt"
   ]
  },
  {
   "cell_type": "code",
   "execution_count": null,
   "metadata": {},
   "outputs": [],
   "source": [
    "def cdf(data):\n",
    "    # compute cdf values for a 1D array of data\n",
    "    data = data[~np.isnan(data)] # remove NaN values\n",
    "    x = np.sort(data) #sort data\n",
    "    y = 1. * np.arange(len(data)) / (len(data) - 1) #calculate CDF values\n",
    "    return x, y"
   ]
  },
  {
   "cell_type": "code",
   "execution_count": null,
   "metadata": {},
   "outputs": [],
   "source": [
    "base_filepath = './Data/NoahMP/'"
   ]
  },
  {
   "cell_type": "code",
   "execution_count": null,
   "metadata": {},
   "outputs": [],
   "source": [
    "# read in NoahMP GDAS February mean SWE geotiff\n",
    "swe_noahmp_gdas_febmean_mm = xr.open_rasterio(base_filepath + 'swe_noahmp_gdas_febmean_mm.tif').squeeze()\n",
    "\n",
    "# replace nodata values (-1, or anything negative) with NaNs\n",
    "swe_noahmp_gdas_febmean_mm = swe_noahmp_gdas_febmean_mm.where(swe_noahmp_gdas_febmean_mm >= 0)\n",
    "\n",
    "# compute NoahMP GDAS CDF\n",
    "gdas_cdf_x, gdas_cdf_y = cdf(swe_noahmp_gdas_febmean_mm.values.ravel())\n",
    "\n",
    "# convert to a pandas dataframe\n",
    "gdas_cdf_df = pd.DataFrame(data={'cdf_x': gdas_cdf_x, 'cdf_y': gdas_cdf_y})\n",
    "\n",
    "# export CDF values to a csv file\n",
    "gdas_cdf_df.to_csv('swe_noahmp_gdas_febmean_mm_CDF.csv')"
   ]
  },
  {
   "cell_type": "code",
   "execution_count": null,
   "metadata": {},
   "outputs": [],
   "source": [
    "# read in NoahMP ECMWF February mean SWE geotiff\n",
    "swe_noahmp_ecmwf_febmean_mm = xr.open_rasterio(base_filepath + 'swe_noahmp_ecmwf_febmean_mm.tif').squeeze()\n",
    "\n",
    "# replace nodata values (-1, or anything negative) with NaNs\n",
    "swe_noahmp_ecmwf_febmean_mm = swe_noahmp_ecmwf_febmean_mm.where(swe_noahmp_ecmwf_febmean_mm >= 0)\n",
    "\n",
    "# compute NoahMP ECMWF CDF\n",
    "ecmwf_cdf_x, ecmwf_cdf_y = cdf(swe_noahmp_ecmwf_febmean_mm.values.ravel())\n",
    "\n",
    "# convert to a pandas dataframe\n",
    "ecmwf_cdf_df = pd.DataFrame(data={'cdf_x': ecmwf_cdf_x, 'cdf_y': ecmwf_cdf_y})\n",
    "\n",
    "# export CDF values to a csv file\n",
    "ecmwf_cdf_df.to_csv('swe_noahmp_ecmwf_febmean_mm_CDF.csv')"
   ]
  },
  {
   "cell_type": "code",
   "execution_count": null,
   "metadata": {},
   "outputs": [],
   "source": [
    "fig, ax = plt.subplots(nrows=1,ncols=3,figsize=(15,4),tight_layout=True,gridspec_kw={'width_ratios': [1, 1, 1]})\n",
    "[ax1, ax2, ax3] = ax.ravel()\n",
    "\n",
    "### Map plots ###\n",
    "\n",
    "# NoahMP GDAS map\n",
    "swe_noahmp_gdas_febmean_mm.plot(ax=ax1, vmin=0, vmax=200, cmap='Blues', cbar_kwargs={'label': 'SWE (mm)'})\n",
    "\n",
    "# NoahMP ECMWF map\n",
    "swe_noahmp_ecmwf_febmean_mm.plot(ax=ax2, vmin=0, vmax=200, cmap='Blues', cbar_kwargs={'label': 'SWE (mm)'})\n",
    "\n",
    "# format map plots\n",
    "ax1.set_title('NoahMP GDAS\\nMean February SWE')\n",
    "ax2.set_title('NoahMP ECMWF\\nMean February SWE')\n",
    "for this_ax in [ax1, ax2]:\n",
    "    this_ax.set_ylabel('Longitude')\n",
    "    this_ax.set_xlabel('Latitude')\n",
    "\n",
    "    \n",
    "### CDF plot ###\n",
    "\n",
    "# NoahMP GDAS CDF\n",
    "ax3.plot(gdas_cdf_x, gdas_cdf_y, '-', label='NoahMP GDAS')\n",
    "\n",
    "# NoahMP ECMWF CDF\n",
    "ax3.plot(ecmwf_cdf_x, ecmwf_cdf_y, '--', label='NoahMP ECMWF')\n",
    "\n",
    "# format CDF plot\n",
    "ax3.set_xlim((-5,500))\n",
    "ax3.set_title('CDF of Mean February SWE')\n",
    "ax3.set_ylabel('Cumulative Frequency')\n",
    "ax3.set_xlabel('Mean February SWE (mm)')\n",
    "ax3.legend(loc='lower right');\n",
    "\n",
    "# save figure\n",
    "plt.savefig('NoahMP_FebMeanSWE.jpg')"
   ]
  },
  {
   "cell_type": "code",
   "execution_count": null,
   "metadata": {},
   "outputs": [],
   "source": []
  }
 ],
 "metadata": {
  "kernelspec": {
   "display_name": "whwwaterdata",
   "language": "python",
   "name": "whwwaterdata"
  },
  "language_info": {
   "codemirror_mode": {
    "name": "ipython",
    "version": 3
   },
   "file_extension": ".py",
   "mimetype": "text/x-python",
   "name": "python",
   "nbconvert_exporter": "python",
   "pygments_lexer": "ipython3",
   "version": "3.6.10"
  }
 },
 "nbformat": 4,
 "nbformat_minor": 2
}
